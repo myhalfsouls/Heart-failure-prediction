{
 "cells": [
  {
   "cell_type": "code",
   "id": "initial_id",
   "metadata": {
    "collapsed": true,
    "ExecuteTime": {
     "end_time": "2025-03-19T00:26:00.176850Z",
     "start_time": "2025-03-19T00:25:57.848284Z"
    }
   },
   "source": [
    "import pandas as pd\n",
    "import numpy as np\n",
    "import torch\n",
    "from torch import nn\n",
    "import torch.nn.functional as F\n",
    "from torch.utils.data import Dataset, DataLoader\n",
    "from sklearn.model_selection import train_test_split\n",
    "\n",
    "import nltk\n",
    "from gensim.models import KeyedVectors"
   ],
   "outputs": [],
   "execution_count": 1
  },
  {
   "metadata": {
    "ExecuteTime": {
     "end_time": "2025-03-19T00:26:29.301444Z",
     "start_time": "2025-03-19T00:26:00.176850Z"
    }
   },
   "cell_type": "code",
   "source": [
    "data_path = './data/'\n",
    "df_data = pd.read_csv(data_path + 'data_processed.csv')\n",
    "df_data['TOKENS'] = df_data['CLEAN_TEXT'].apply(nltk.word_tokenize)\n",
    "df_data_genRe = df_data[['TOKENS', 'GEN_RE']]\n",
    "df_data_30Re = df_data[['TOKENS', '30_RE']]"
   ],
   "id": "4a6c31f18c153996",
   "outputs": [],
   "execution_count": 2
  },
  {
   "metadata": {},
   "cell_type": "markdown",
   "source": "Download word2vec file from Kaggle: https://www.kaggle.com/datasets/alexiscorona/pubmed-and-pmc-w2v/",
   "id": "c4f4811780d3548"
  },
  {
   "metadata": {
    "ExecuteTime": {
     "end_time": "2025-03-19T00:26:47.374148Z",
     "start_time": "2025-03-19T00:26:29.301444Z"
    }
   },
   "cell_type": "code",
   "source": "w2v = KeyedVectors.load_word2vec_format(\"PubMed-and-PMC-w2v.bin\", binary=True)",
   "id": "93748ded704bace2",
   "outputs": [],
   "execution_count": 3
  },
  {
   "metadata": {
    "ExecuteTime": {
     "end_time": "2025-03-19T00:26:47.378163Z",
     "start_time": "2025-03-19T00:26:47.374148Z"
    }
   },
   "cell_type": "code",
   "source": [
    "pos_genRe_idx = np.where((df_data['GEN_RE'] == 1))[0]\n",
    "neg_genRe_idx = np.where((df_data['GEN_RE'] == 0))[0]\n",
    "pos_30Re_idx = np.where((df_data['30_RE'] == 1))[0]\n",
    "neg_30Re_idx = np.where((df_data['30_RE'] == 0))[0]"
   ],
   "id": "6923af537764554a",
   "outputs": [],
   "execution_count": 4
  },
  {
   "metadata": {
    "ExecuteTime": {
     "end_time": "2025-03-19T00:26:47.390244Z",
     "start_time": "2025-03-19T00:26:47.378678Z"
    }
   },
   "cell_type": "code",
   "source": [
    "def vectorize(tokens):\n",
    "    vectors = [w2v[token] if token in w2v else np.random.uniform(-1, 1, (200,)).astype(np.float32) for token in tokens]\n",
    "    return np.array(vectors)\n",
    "\n",
    "def generate_dataset(df_data, pos_idx, neg_idx):\n",
    "    num_pos = len(pos_idx)\n",
    "    labels = [1] * num_pos + [0] * num_pos\n",
    "    neg_idx_sample = np.random.choice(neg_idx, size=num_pos, replace=False)\n",
    "    all_idx = pos_idx.tolist() + neg_idx_sample.tolist()\n",
    "    tokens_all = df_data.iloc[all_idx, :]['TOKENS'].to_list()\n",
    "    vectors_all = [vectorize(tokens) for tokens in tokens_all]\n",
    "    return vectors_all, labels\n",
    "\n",
    "def collate_data(batch):\n",
    "    batch = sorted(batch, key=lambda x: x[0].shape[0])[::-1]\n",
    "    max_len = batch[0][0].shape[0]\n",
    "    labels = [i[1] for i in batch]\n",
    "    \n",
    "    vectors = []\n",
    "    for itm in batch:\n",
    "        if itm[0].shape[0] < max_len:\n",
    "            vectors.append(np.pad(itm[0], ((0, max_len - itm[0].shape[0]), (0, 0)), mode='constant', constant_values=0))\n",
    "        else:\n",
    "            vectors.append(itm[0])\n",
    "    vectors = np.stack(vectors, axis=0)\n",
    "    return torch.tensor(vectors, dtype=torch.float), torch.tensor(labels, dtype=torch.float)"
   ],
   "id": "e81f557dc48ea655",
   "outputs": [],
   "execution_count": 5
  },
  {
   "metadata": {
    "ExecuteTime": {
     "end_time": "2025-03-19T00:26:47.395182Z",
     "start_time": "2025-03-19T00:26:47.390244Z"
    }
   },
   "cell_type": "code",
   "source": [
    "class HFDataset(Dataset):\n",
    "    def __init__(self, vectors_all, labels):\n",
    "        self.vectors_all = vectors_all\n",
    "        self.labels = labels\n",
    "    \n",
    "    def __len__(self):\n",
    "        return len(self.labels)\n",
    "    \n",
    "    def __getitem__(self, index):\n",
    "        vectors = self.vectors_all[index]\n",
    "        return vectors, self.labels[index]"
   ],
   "id": "3d8282ce5f55ca24",
   "outputs": [],
   "execution_count": 6
  },
  {
   "metadata": {},
   "cell_type": "code",
   "outputs": [],
   "execution_count": null,
   "source": [
    "vectors_all_genRe, labels_genRe = generate_dataset(df_data_genRe, pos_genRe_idx, neg_genRe_idx)\n",
    "x_train, x_test, y_train, y_test = train_test_split(vectors_all_genRe, labels_genRe, test_size=0.1, shuffle=True)\n",
    "x_train, x_val, y_train, y_val = train_test_split(x_train, y_train, test_size=0.1, shuffle=True)\n",
    "dataset_train = HFDataset(x_train, y_train)\n",
    "dataset_val = HFDataset(x_val, y_val)\n",
    "dataset_test = HFDataset(x_test, y_test)\n",
    "train_loader = DataLoader(dataset=dataset_train, batch_size=32, shuffle=True, collate_fn=collate_data)\n",
    "val_loader = DataLoader(dataset=dataset_val, batch_size=32, shuffle=True, collate_fn=collate_data)\n",
    "test_loader = DataLoader(dataset=dataset_test, batch_size=32, shuffle=True, collate_fn=collate_data)"
   ],
   "id": "be73b49e2012acf7"
  },
  {
   "metadata": {
    "ExecuteTime": {
     "end_time": "2025-03-19T00:56:18.528386Z",
     "start_time": "2025-03-19T00:56:18.518933Z"
    }
   },
   "cell_type": "code",
   "source": [
    "class HFCNN(nn.Module):\n",
    "    def __init__(self):\n",
    "        super(HFCNN, self).__init__()\n",
    "        out_channels = 64\n",
    "        self.conv1 = nn.Conv2d(in_channels=1, out_channels=out_channels, kernel_size=(1, 200))\n",
    "        self.conv2 = nn.Conv2d(in_channels=1, out_channels=out_channels, kernel_size=(2, 200))\n",
    "        self.conv3 = nn.Conv2d(in_channels=1, out_channels=out_channels, kernel_size=(3, 200))\n",
    "        self.bn1 = nn.BatchNorm1d(out_channels)\n",
    "        self.bn2 = nn.BatchNorm1d(out_channels)\n",
    "        self.bn3 = nn.BatchNorm1d(out_channels)\n",
    "        self.dp = nn.Dropout(0.5)\n",
    "        self.FC1 = nn.Linear(in_features=out_channels * 3, out_features=1)\n",
    "        \n",
    "    def forward(self, x):\n",
    "        x = x.unsqueeze(1)\n",
    "        feature1 = F.relu(self.conv1(x).squeeze(3))\n",
    "        feature2 = F.relu(self.conv2(x).squeeze(3))\n",
    "        feature3 = F.relu(self.conv3(x).squeeze(3))\n",
    "                \n",
    "        feature1 = F.max_pool1d(feature1, feature1.size(2)).squeeze(2)\n",
    "        feature2 = F.max_pool1d(feature2, feature2.size(2)).squeeze(2)\n",
    "        feature3 = F.max_pool1d(feature3, feature3.size(2)).squeeze(2)\n",
    "\n",
    "        \n",
    "        feature1 = self.bn1(feature1)\n",
    "        feature2 = self.bn2(feature2)\n",
    "        feature3 = self.bn3(feature3)\n",
    "        \n",
    "        features = torch.cat((feature1, feature2, feature3), dim=1)\n",
    "        features = self.dp(features)\n",
    "        output = self.FC1(features).squeeze(1)\n",
    "        \n",
    "        return output    "
   ],
   "id": "48faf4cf6e5363e9",
   "outputs": [],
   "execution_count": 37
  },
  {
   "metadata": {
    "ExecuteTime": {
     "end_time": "2025-03-19T00:58:36.710402Z",
     "start_time": "2025-03-19T00:56:18.779636Z"
    }
   },
   "cell_type": "code",
   "source": [
    "device = torch.device('cuda' if torch.cuda.is_available() else 'cpu')\n",
    "model = HFCNN().to(device)\n",
    "optimizer = torch.optim.Adam(model.parameters(), lr=0.001, weight_decay=0.05)\n",
    "criterion = nn.BCEWithLogitsLoss()\n",
    "num_epoch = 15\n",
    "sizes = {'training': len(x_train), 'validation': len(x_val)}\n",
    "\n",
    "for epoch in range(num_epoch):\n",
    "    print('Epoch {} of {}'.format(epoch+1, num_epoch))\n",
    "    print('-' * 10)\n",
    "    for phase in ['training', 'validation']:\n",
    "        if phase == 'training':\n",
    "            model.train()\n",
    "            dataloader = train_loader\n",
    "        else:\n",
    "            model.eval()\n",
    "            dataloader = val_loader\n",
    "        epoch_loss = 0.\n",
    "        epoch_correct = 0.\n",
    "        for i, (input, target) in enumerate(dataloader):\n",
    "            input = input.to(device)\n",
    "            target = target.to(device)\n",
    "            optimizer.zero_grad()\n",
    "            with torch.set_grad_enabled(phase == 'training'):\n",
    "                output = model(input)\n",
    "                loss = criterion(output, target)\n",
    "                if phase == 'training':\n",
    "                    loss.backward()\n",
    "                    optimizer.step()\n",
    "            epoch_loss += loss.item() * input.shape[0]\n",
    "            preds = (F.sigmoid(output) > 0.5).float()\n",
    "            epoch_correct += torch.sum(preds == target.data)\n",
    "\n",
    "        epoch_loss = epoch_loss / sizes[phase]\n",
    "        epoch_acc = (epoch_correct / sizes[phase]).item()\n",
    "        print('{} phase, current loss is {}'.format(phase, epoch_loss))\n",
    "        print('{} phase, current accuracy is {}'.format(phase, epoch_acc))\n",
    "        print()"
   ],
   "id": "42257c3133a0ff80",
   "outputs": [
    {
     "name": "stdout",
     "output_type": "stream",
     "text": [
      "Epoch 1 of 15\n",
      "----------\n",
      "training phase, current loss is 0.7078165553044284\n",
      "training phase, current accuracy is 0.5514718890190125\n",
      "\n",
      "validation phase, current loss is 0.66152753482418\n",
      "validation phase, current accuracy is 0.6065830588340759\n",
      "\n",
      "Epoch 2 of 15\n",
      "----------\n",
      "training phase, current loss is 0.5791538959283734\n",
      "training phase, current accuracy is 0.7172966599464417\n",
      "\n",
      "validation phase, current loss is 0.6516427614472129\n",
      "validation phase, current accuracy is 0.6253918409347534\n",
      "\n",
      "Epoch 3 of 15\n",
      "----------\n",
      "training phase, current loss is 0.5612895263962745\n",
      "training phase, current accuracy is 0.7221738696098328\n",
      "\n",
      "validation phase, current loss is 0.6314202898348387\n",
      "validation phase, current accuracy is 0.6504701972007751\n",
      "\n",
      "Epoch 4 of 15\n",
      "----------\n",
      "training phase, current loss is 0.5489493644397405\n",
      "training phase, current accuracy is 0.7456889152526855\n",
      "\n",
      "validation phase, current loss is 0.6516947054937715\n",
      "validation phase, current accuracy is 0.6144200563430786\n",
      "\n",
      "Epoch 5 of 15\n",
      "----------\n",
      "training phase, current loss is 0.5388616844194107\n",
      "training phase, current accuracy is 0.7604947090148926\n",
      "\n",
      "validation phase, current loss is 0.6374947004557403\n",
      "validation phase, current accuracy is 0.6206896305084229\n",
      "\n",
      "Epoch 6 of 15\n",
      "----------\n",
      "training phase, current loss is 0.5444157464104317\n",
      "training phase, current accuracy is 0.7674621343612671\n",
      "\n",
      "validation phase, current loss is 0.6392505949941175\n",
      "validation phase, current accuracy is 0.6379310488700867\n",
      "\n",
      "Epoch 7 of 15\n",
      "----------\n",
      "training phase, current loss is 0.5539133160439461\n",
      "training phase, current accuracy is 0.7624107599258423\n",
      "\n",
      "validation phase, current loss is 0.6334549339961109\n",
      "validation phase, current accuracy is 0.6520376205444336\n",
      "\n",
      "Epoch 8 of 15\n",
      "----------\n",
      "training phase, current loss is 0.5645708469143522\n",
      "training phase, current accuracy is 0.7585786581039429\n",
      "\n",
      "validation phase, current loss is 0.6396673482413576\n",
      "validation phase, current accuracy is 0.6285266280174255\n",
      "\n",
      "Epoch 9 of 15\n",
      "----------\n",
      "training phase, current loss is 0.5785862193189002\n",
      "training phase, current accuracy is 0.7474307417869568\n",
      "\n",
      "validation phase, current loss is 0.6424484632231973\n",
      "validation phase, current accuracy is 0.6112852692604065\n",
      "\n",
      "Epoch 10 of 15\n",
      "----------\n",
      "training phase, current loss is 0.5863559588055394\n",
      "training phase, current accuracy is 0.7413342595100403\n",
      "\n",
      "validation phase, current loss is 0.6426378400721894\n",
      "validation phase, current accuracy is 0.6018808484077454\n",
      "\n",
      "Epoch 11 of 15\n",
      "----------\n",
      "training phase, current loss is 0.5964298292000396\n",
      "training phase, current accuracy is 0.718515932559967\n",
      "\n",
      "validation phase, current loss is 0.6382120556218497\n",
      "validation phase, current accuracy is 0.5909090638160706\n",
      "\n",
      "Epoch 12 of 15\n",
      "----------\n",
      "training phase, current loss is 0.6011622983847443\n",
      "training phase, current accuracy is 0.7078906297683716\n",
      "\n",
      "validation phase, current loss is 0.6424126415790808\n",
      "validation phase, current accuracy is 0.6222570538520813\n",
      "\n",
      "Epoch 13 of 15\n",
      "----------\n",
      "training phase, current loss is 0.6021991049634976\n",
      "training phase, current accuracy is 0.7113743424415588\n",
      "\n",
      "validation phase, current loss is 0.6390251552797036\n",
      "validation phase, current accuracy is 0.630094051361084\n",
      "\n",
      "Epoch 14 of 15\n",
      "----------\n",
      "training phase, current loss is 0.6082482300990759\n",
      "training phase, current accuracy is 0.6967427134513855\n",
      "\n",
      "validation phase, current loss is 0.6384544275397417\n",
      "validation phase, current accuracy is 0.6316614151000977\n",
      "\n",
      "Epoch 15 of 15\n",
      "----------\n",
      "training phase, current loss is 0.6034314273292856\n",
      "training phase, current accuracy is 0.7030134201049805\n",
      "\n",
      "validation phase, current loss is 0.6337180688837105\n",
      "validation phase, current accuracy is 0.6410658359527588\n",
      "\n"
     ]
    }
   ],
   "execution_count": 38
  },
  {
   "metadata": {},
   "cell_type": "code",
   "outputs": [],
   "execution_count": null,
   "source": "",
   "id": "89eec09d9180e701"
  }
 ],
 "metadata": {
  "kernelspec": {
   "display_name": "Python 3",
   "language": "python",
   "name": "python3"
  },
  "language_info": {
   "codemirror_mode": {
    "name": "ipython",
    "version": 2
   },
   "file_extension": ".py",
   "mimetype": "text/x-python",
   "name": "python",
   "nbconvert_exporter": "python",
   "pygments_lexer": "ipython2",
   "version": "2.7.6"
  }
 },
 "nbformat": 4,
 "nbformat_minor": 5
}

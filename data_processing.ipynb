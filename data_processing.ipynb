{
 "cells": [
  {
   "cell_type": "code",
   "id": "initial_id",
   "metadata": {
    "collapsed": true,
    "ExecuteTime": {
     "end_time": "2025-03-18T23:39:07.664157Z",
     "start_time": "2025-03-18T23:39:06.634753Z"
    }
   },
   "source": [
    "import pandas as pd\n",
    "import numpy as np\n",
    "from gensim.parsing.preprocessing import remove_stopwords\n",
    "import nltk\n",
    "\n",
    "nltk.download(\"punkt_tab\")"
   ],
   "outputs": [
    {
     "name": "stderr",
     "output_type": "stream",
     "text": [
      "[nltk_data] Downloading package punkt_tab to\n",
      "[nltk_data]     C:\\Users\\Steven\\AppData\\Roaming\\nltk_data...\n",
      "[nltk_data]   Package punkt_tab is already up-to-date!\n"
     ]
    },
    {
     "data": {
      "text/plain": [
       "True"
      ]
     },
     "execution_count": 1,
     "metadata": {},
     "output_type": "execute_result"
    }
   ],
   "execution_count": 1
  },
  {
   "metadata": {
    "ExecuteTime": {
     "end_time": "2025-03-18T23:39:31.517626Z",
     "start_time": "2025-03-18T23:39:07.664157Z"
    }
   },
   "cell_type": "code",
   "source": [
    "data_path = './data/'\n",
    "\n",
    "df_admissions = pd.read_csv(data_path + 'ADMISSIONS.csv')\n",
    "df_diagnosis = pd.read_csv(data_path + 'DIAGNOSES_ICD.csv')\n",
    "df_notes = pd.read_csv(data_path + 'NOTEEVENTS.csv', dtype='unicode')"
   ],
   "id": "e1a58b2301b22adb",
   "outputs": [],
   "execution_count": 2
  },
  {
   "metadata": {
    "ExecuteTime": {
     "end_time": "2025-03-18T23:39:31.573588Z",
     "start_time": "2025-03-18T23:39:31.517626Z"
    }
   },
   "cell_type": "code",
   "source": [
    "include_codes = ['39891', '40201', '40211', '40291', '40401', '40403', '40411', '40413', '40491', '40493', '4280', '4281', \n",
    "                 '42820', '42821', '42822', '42823', '42830', '42831', '42832', '42833', '42840', '42841', '42842', '42843', '4289']\n",
    "\n",
    "df_diagnosis_hf = df_diagnosis.loc[df_diagnosis['ICD9_CODE'].isin(include_codes), ['SUBJECT_ID', 'HADM_ID', 'ICD9_CODE']]\n",
    "df_diagnosis_hf = df_diagnosis_hf.drop_duplicates(subset=['SUBJECT_ID', 'HADM_ID'])"
   ],
   "id": "5ccc2931bd486abf",
   "outputs": [],
   "execution_count": 3
  },
  {
   "metadata": {
    "ExecuteTime": {
     "end_time": "2025-03-18T23:39:32.535732Z",
     "start_time": "2025-03-18T23:39:31.573588Z"
    }
   },
   "cell_type": "code",
   "source": [
    "df_notes = df_notes.loc[df_notes['HADM_ID'].notna(), ['SUBJECT_ID', 'HADM_ID', 'CATEGORY', 'TEXT']]\n",
    "df_notes['HADM_ID'] = df_notes['HADM_ID'].astype(np.int64)\n",
    "df_notes['SUBJECT_ID'] = df_notes['SUBJECT_ID'].astype(np.int64)\n",
    "df_notes = df_notes.loc[df_notes['CATEGORY'] == 'Discharge summary', :]\n",
    "df_notes['TEXT_LEN'] = df_notes['TEXT'].apply(len)\n",
    "df_notes = df_notes.loc[df_notes.groupby(['SUBJECT_ID', 'HADM_ID'])['TEXT_LEN'].idxmax(), :]"
   ],
   "id": "7b2f7138b7951d08",
   "outputs": [],
   "execution_count": 4
  },
  {
   "metadata": {
    "ExecuteTime": {
     "end_time": "2025-03-18T23:39:32.600420Z",
     "start_time": "2025-03-18T23:39:32.535732Z"
    }
   },
   "cell_type": "code",
   "source": [
    "df_admissions = df_admissions.loc[:, ['SUBJECT_ID', 'HADM_ID', 'ADMITTIME', 'DISCHTIME']]\n",
    "df_admissions['ADMITTIME'] = pd.to_datetime(df_admissions['ADMITTIME'])\n",
    "df_admissions['DISCHTIME'] = pd.to_datetime(df_admissions['DISCHTIME'])"
   ],
   "id": "152d97638c7c1dd7",
   "outputs": [],
   "execution_count": 5
  },
  {
   "metadata": {
    "ExecuteTime": {
     "end_time": "2025-03-18T23:39:33.441152Z",
     "start_time": "2025-03-18T23:39:32.600420Z"
    }
   },
   "cell_type": "code",
   "source": [
    "df_data = df_diagnosis_hf.merge(df_notes, how='left', on=['HADM_ID', 'SUBJECT_ID'])\n",
    "df_data = df_data.merge(df_admissions, how='left', on=['HADM_ID', 'SUBJECT_ID'])\n",
    "df_data = df_data.sort_values(by=['SUBJECT_ID', 'ADMITTIME']).reset_index(drop=True)\n",
    "df_data['GEN_RE'] = 0\n",
    "df_data['30_RE'] = 0\n",
    "for i in range(0, df_data.shape[0] - 1):\n",
    "    if df_data.loc[i, 'SUBJECT_ID'] == df_data.loc[i + 1, 'SUBJECT_ID']:\n",
    "        df_data.loc[i, 'GEN_RE'] = 1\n",
    "        days_re = (df_data.loc[i + 1, 'ADMITTIME'] - df_data.loc[i, 'DISCHTIME']).days\n",
    "        if days_re <= 30:\n",
    "            df_data.loc[i, '30_RE'] = 1\n",
    "            \n",
    "print('Total number of admissions: {}'.format(df_data.shape[0]))\n",
    "print('Total number of general readmissions: {}'.format(df_data['GEN_RE'].sum()))\n",
    "print('Total number of 30-day readmissions: {}'.format(df_data['30_RE'].sum()))"
   ],
   "id": "cb105d413cf6e24",
   "outputs": [
    {
     "name": "stdout",
     "output_type": "stream",
     "text": [
      "Total number of admissions: 14040\n",
      "Total number of general readmissions: 3604\n",
      "Total number of 30-day readmissions: 969\n"
     ]
    }
   ],
   "execution_count": 6
  },
  {
   "metadata": {
    "ExecuteTime": {
     "end_time": "2025-03-18T23:39:33.449664Z",
     "start_time": "2025-03-18T23:39:33.441152Z"
    }
   },
   "cell_type": "code",
   "source": [
    "df_data = df_data.loc[df_data['TEXT'].notna(), ['SUBJECT_ID', 'HADM_ID', 'TEXT', 'GEN_RE', '30_RE']]\n",
    "\n",
    "print('Total number of admissions with discharge summaries: {}'.format(df_data.shape[0]))\n",
    "print('Total number of general readmissions with discharge summaries: {}'.format(df_data['GEN_RE'].sum()))\n",
    "print('Total number of 30-day readmissions with discharge summaries: {}'.format(df_data['30_RE'].sum()))"
   ],
   "id": "91e564a7e4cca174",
   "outputs": [
    {
     "name": "stdout",
     "output_type": "stream",
     "text": [
      "Total number of admissions with discharge summaries: 13755\n",
      "Total number of general readmissions with discharge summaries: 3544\n",
      "Total number of 30-day readmissions with discharge summaries: 963\n"
     ]
    }
   ],
   "execution_count": 7
  },
  {
   "metadata": {
    "ExecuteTime": {
     "end_time": "2025-03-18T23:39:39.791946Z",
     "start_time": "2025-03-18T23:39:33.449664Z"
    }
   },
   "cell_type": "code",
   "source": [
    "df_data['CLEAN_TEXT'] = df_data['TEXT'].str.replace(r'[^A-Za-z0-9\\s]', '', regex=True)\n",
    "df_data['CLEAN_TEXT'] = df_data['CLEAN_TEXT'].str.replace(r'\\d+', '', regex=True)\n",
    "df_data['CLEAN_TEXT'] = df_data['CLEAN_TEXT'].str.lower()\n",
    "df_data['CLEAN_TEXT'] = df_data['CLEAN_TEXT'].apply(remove_stopwords)"
   ],
   "id": "91a0f0912a41a3db",
   "outputs": [],
   "execution_count": 8
  },
  {
   "metadata": {
    "ExecuteTime": {
     "end_time": "2025-03-18T23:39:43.048600Z",
     "start_time": "2025-03-18T23:39:39.791946Z"
    }
   },
   "cell_type": "code",
   "source": [
    "df_data.to_csv(data_path + 'data_processed.csv', index=False)\n",
    "df_data.head(20)"
   ],
   "id": "a9f562a06cd2645e",
   "outputs": [
    {
     "data": {
      "text/plain": [
       "    SUBJECT_ID  HADM_ID                                               TEXT  \\\n",
       "0            3   145834  Admission Date:  [**2101-10-20**]     Discharg...   \n",
       "1            9   150750  Admission Date:  [**2149-11-9**]       Dischar...   \n",
       "2           21   109451  Admission Date:  [**2134-9-11**]              ...   \n",
       "3           26   197661  Admission Date:  [**2126-5-6**]     Discharge ...   \n",
       "4           30   104557  Admission Date:  [**2172-10-14**]       Discha...   \n",
       "6           34   144319  Admission Date:  [**2191-2-23**]              ...   \n",
       "7           37   188670  Admission Date:  [**2183-8-21**]     Discharge...   \n",
       "8           38   185910  Admission Date:  [**2166-8-10**]              ...   \n",
       "9           42   119203  Admission Date: [**2116-4-29**]        Dischar...   \n",
       "10          49   190539  Admission Date:  [**2186-11-21**]             ...   \n",
       "11          55   190665  Admission Date:  [**2136-4-3**]              D...   \n",
       "12          56   181711  Admission Date:  [**2104-1-2**]              D...   \n",
       "13          63   195961  Admission Date:  [**2169-1-7**]              D...   \n",
       "14          68   170467  Admission Date:  [**2173-12-15**]             ...   \n",
       "15          68   108329  Admission Date:  [**2174-1-4**]              D...   \n",
       "16          77   142768  Admission Date:  [**2164-11-18**]     Discharg...   \n",
       "17          83   158569  Admission Date:  [**2142-4-1**]     Discharge ...   \n",
       "18         105   128744  Admission Date:  [**2189-2-21**]              ...   \n",
       "19         107   182383  Admission Date:  [**2121-11-30**]             ...   \n",
       "20         111   155897  Admission Date:  [**2144-7-1**]              D...   \n",
       "\n",
       "    GEN_RE  30_RE                                         CLEAN_TEXT  \n",
       "0        0      0  admission date discharge date date birth sex m...  \n",
       "1        0      0  admission date discharge date date birth sex m...  \n",
       "2        0      0  admission date discharge date service medicine...  \n",
       "3        0      0  admission date discharge date date birth sex m...  \n",
       "4        0      0  admission date discharge date service hospital...  \n",
       "6        0      0  admission date discharge date service medicine...  \n",
       "7        0      0  admission date discharge date date birth sex m...  \n",
       "8        0      0  admission date discharge date date birth sex m...  \n",
       "9        0      0  admission date discharge date date birth sex m...  \n",
       "10       0      0  admission date discharge date service cardioth...  \n",
       "11       0      0  admission date discharge date date birth sex f...  \n",
       "12       0      0  admission date discharge date service medicine...  \n",
       "13       0      0  admission date discharge date service medicine...  \n",
       "14       1      1  admission date discharge date date birth sex f...  \n",
       "15       0      0  admission date discharge date date birth sex f...  \n",
       "16       0      0  admission date discharge date date birth sex m...  \n",
       "17       0      0  admission date discharge date date birth sex f...  \n",
       "18       0      0  admission date discharge date date birth sex f...  \n",
       "19       0      0  admission date discharge date date birth sex m...  \n",
       "20       0      0  admission date discharge date date birth sex f...  "
      ],
      "text/html": [
       "<div>\n",
       "<style scoped>\n",
       "    .dataframe tbody tr th:only-of-type {\n",
       "        vertical-align: middle;\n",
       "    }\n",
       "\n",
       "    .dataframe tbody tr th {\n",
       "        vertical-align: top;\n",
       "    }\n",
       "\n",
       "    .dataframe thead th {\n",
       "        text-align: right;\n",
       "    }\n",
       "</style>\n",
       "<table border=\"1\" class=\"dataframe\">\n",
       "  <thead>\n",
       "    <tr style=\"text-align: right;\">\n",
       "      <th></th>\n",
       "      <th>SUBJECT_ID</th>\n",
       "      <th>HADM_ID</th>\n",
       "      <th>TEXT</th>\n",
       "      <th>GEN_RE</th>\n",
       "      <th>30_RE</th>\n",
       "      <th>CLEAN_TEXT</th>\n",
       "    </tr>\n",
       "  </thead>\n",
       "  <tbody>\n",
       "    <tr>\n",
       "      <th>0</th>\n",
       "      <td>3</td>\n",
       "      <td>145834</td>\n",
       "      <td>Admission Date:  [**2101-10-20**]     Discharg...</td>\n",
       "      <td>0</td>\n",
       "      <td>0</td>\n",
       "      <td>admission date discharge date date birth sex m...</td>\n",
       "    </tr>\n",
       "    <tr>\n",
       "      <th>1</th>\n",
       "      <td>9</td>\n",
       "      <td>150750</td>\n",
       "      <td>Admission Date:  [**2149-11-9**]       Dischar...</td>\n",
       "      <td>0</td>\n",
       "      <td>0</td>\n",
       "      <td>admission date discharge date date birth sex m...</td>\n",
       "    </tr>\n",
       "    <tr>\n",
       "      <th>2</th>\n",
       "      <td>21</td>\n",
       "      <td>109451</td>\n",
       "      <td>Admission Date:  [**2134-9-11**]              ...</td>\n",
       "      <td>0</td>\n",
       "      <td>0</td>\n",
       "      <td>admission date discharge date service medicine...</td>\n",
       "    </tr>\n",
       "    <tr>\n",
       "      <th>3</th>\n",
       "      <td>26</td>\n",
       "      <td>197661</td>\n",
       "      <td>Admission Date:  [**2126-5-6**]     Discharge ...</td>\n",
       "      <td>0</td>\n",
       "      <td>0</td>\n",
       "      <td>admission date discharge date date birth sex m...</td>\n",
       "    </tr>\n",
       "    <tr>\n",
       "      <th>4</th>\n",
       "      <td>30</td>\n",
       "      <td>104557</td>\n",
       "      <td>Admission Date:  [**2172-10-14**]       Discha...</td>\n",
       "      <td>0</td>\n",
       "      <td>0</td>\n",
       "      <td>admission date discharge date service hospital...</td>\n",
       "    </tr>\n",
       "    <tr>\n",
       "      <th>6</th>\n",
       "      <td>34</td>\n",
       "      <td>144319</td>\n",
       "      <td>Admission Date:  [**2191-2-23**]              ...</td>\n",
       "      <td>0</td>\n",
       "      <td>0</td>\n",
       "      <td>admission date discharge date service medicine...</td>\n",
       "    </tr>\n",
       "    <tr>\n",
       "      <th>7</th>\n",
       "      <td>37</td>\n",
       "      <td>188670</td>\n",
       "      <td>Admission Date:  [**2183-8-21**]     Discharge...</td>\n",
       "      <td>0</td>\n",
       "      <td>0</td>\n",
       "      <td>admission date discharge date date birth sex m...</td>\n",
       "    </tr>\n",
       "    <tr>\n",
       "      <th>8</th>\n",
       "      <td>38</td>\n",
       "      <td>185910</td>\n",
       "      <td>Admission Date:  [**2166-8-10**]              ...</td>\n",
       "      <td>0</td>\n",
       "      <td>0</td>\n",
       "      <td>admission date discharge date date birth sex m...</td>\n",
       "    </tr>\n",
       "    <tr>\n",
       "      <th>9</th>\n",
       "      <td>42</td>\n",
       "      <td>119203</td>\n",
       "      <td>Admission Date: [**2116-4-29**]        Dischar...</td>\n",
       "      <td>0</td>\n",
       "      <td>0</td>\n",
       "      <td>admission date discharge date date birth sex m...</td>\n",
       "    </tr>\n",
       "    <tr>\n",
       "      <th>10</th>\n",
       "      <td>49</td>\n",
       "      <td>190539</td>\n",
       "      <td>Admission Date:  [**2186-11-21**]             ...</td>\n",
       "      <td>0</td>\n",
       "      <td>0</td>\n",
       "      <td>admission date discharge date service cardioth...</td>\n",
       "    </tr>\n",
       "    <tr>\n",
       "      <th>11</th>\n",
       "      <td>55</td>\n",
       "      <td>190665</td>\n",
       "      <td>Admission Date:  [**2136-4-3**]              D...</td>\n",
       "      <td>0</td>\n",
       "      <td>0</td>\n",
       "      <td>admission date discharge date date birth sex f...</td>\n",
       "    </tr>\n",
       "    <tr>\n",
       "      <th>12</th>\n",
       "      <td>56</td>\n",
       "      <td>181711</td>\n",
       "      <td>Admission Date:  [**2104-1-2**]              D...</td>\n",
       "      <td>0</td>\n",
       "      <td>0</td>\n",
       "      <td>admission date discharge date service medicine...</td>\n",
       "    </tr>\n",
       "    <tr>\n",
       "      <th>13</th>\n",
       "      <td>63</td>\n",
       "      <td>195961</td>\n",
       "      <td>Admission Date:  [**2169-1-7**]              D...</td>\n",
       "      <td>0</td>\n",
       "      <td>0</td>\n",
       "      <td>admission date discharge date service medicine...</td>\n",
       "    </tr>\n",
       "    <tr>\n",
       "      <th>14</th>\n",
       "      <td>68</td>\n",
       "      <td>170467</td>\n",
       "      <td>Admission Date:  [**2173-12-15**]             ...</td>\n",
       "      <td>1</td>\n",
       "      <td>1</td>\n",
       "      <td>admission date discharge date date birth sex f...</td>\n",
       "    </tr>\n",
       "    <tr>\n",
       "      <th>15</th>\n",
       "      <td>68</td>\n",
       "      <td>108329</td>\n",
       "      <td>Admission Date:  [**2174-1-4**]              D...</td>\n",
       "      <td>0</td>\n",
       "      <td>0</td>\n",
       "      <td>admission date discharge date date birth sex f...</td>\n",
       "    </tr>\n",
       "    <tr>\n",
       "      <th>16</th>\n",
       "      <td>77</td>\n",
       "      <td>142768</td>\n",
       "      <td>Admission Date:  [**2164-11-18**]     Discharg...</td>\n",
       "      <td>0</td>\n",
       "      <td>0</td>\n",
       "      <td>admission date discharge date date birth sex m...</td>\n",
       "    </tr>\n",
       "    <tr>\n",
       "      <th>17</th>\n",
       "      <td>83</td>\n",
       "      <td>158569</td>\n",
       "      <td>Admission Date:  [**2142-4-1**]     Discharge ...</td>\n",
       "      <td>0</td>\n",
       "      <td>0</td>\n",
       "      <td>admission date discharge date date birth sex f...</td>\n",
       "    </tr>\n",
       "    <tr>\n",
       "      <th>18</th>\n",
       "      <td>105</td>\n",
       "      <td>128744</td>\n",
       "      <td>Admission Date:  [**2189-2-21**]              ...</td>\n",
       "      <td>0</td>\n",
       "      <td>0</td>\n",
       "      <td>admission date discharge date date birth sex f...</td>\n",
       "    </tr>\n",
       "    <tr>\n",
       "      <th>19</th>\n",
       "      <td>107</td>\n",
       "      <td>182383</td>\n",
       "      <td>Admission Date:  [**2121-11-30**]             ...</td>\n",
       "      <td>0</td>\n",
       "      <td>0</td>\n",
       "      <td>admission date discharge date date birth sex m...</td>\n",
       "    </tr>\n",
       "    <tr>\n",
       "      <th>20</th>\n",
       "      <td>111</td>\n",
       "      <td>155897</td>\n",
       "      <td>Admission Date:  [**2144-7-1**]              D...</td>\n",
       "      <td>0</td>\n",
       "      <td>0</td>\n",
       "      <td>admission date discharge date date birth sex f...</td>\n",
       "    </tr>\n",
       "  </tbody>\n",
       "</table>\n",
       "</div>"
      ]
     },
     "execution_count": 9,
     "metadata": {},
     "output_type": "execute_result"
    }
   ],
   "execution_count": 9
  }
 ],
 "metadata": {
  "kernelspec": {
   "display_name": "Python 3",
   "language": "python",
   "name": "python3"
  },
  "language_info": {
   "codemirror_mode": {
    "name": "ipython",
    "version": 2
   },
   "file_extension": ".py",
   "mimetype": "text/x-python",
   "name": "python",
   "nbconvert_exporter": "python",
   "pygments_lexer": "ipython2",
   "version": "2.7.6"
  }
 },
 "nbformat": 4,
 "nbformat_minor": 5
}

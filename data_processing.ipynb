{
 "cells": [
  {
   "cell_type": "code",
   "id": "initial_id",
   "metadata": {
    "collapsed": true,
    "ExecuteTime": {
     "end_time": "2025-03-17T00:24:17.809706Z",
     "start_time": "2025-03-17T00:24:17.559227Z"
    }
   },
   "source": [
    "import pandas as pd\n",
    "import numpy as np"
   ],
   "outputs": [],
   "execution_count": 1
  },
  {
   "metadata": {
    "ExecuteTime": {
     "end_time": "2025-03-17T00:24:40.681446Z",
     "start_time": "2025-03-17T00:24:17.809706Z"
    }
   },
   "cell_type": "code",
   "source": [
    "df_admissions = pd.read_csv('./data/ADMISSIONS.csv')\n",
    "df_diagnosis = pd.read_csv('./data/DIAGNOSES_ICD.csv')\n",
    "df_notes = pd.read_csv('./data/NOTEEVENTS.csv', dtype='unicode')"
   ],
   "id": "e1a58b2301b22adb",
   "outputs": [],
   "execution_count": 2
  },
  {
   "metadata": {
    "ExecuteTime": {
     "end_time": "2025-03-17T00:24:41.083982Z",
     "start_time": "2025-03-17T00:24:40.681446Z"
    }
   },
   "cell_type": "code",
   "source": [
    "df_notes = df_notes.loc[df_notes['HADM_ID'].notna(), ['SUBJECT_ID', 'HADM_ID', 'CATEGORY', 'TEXT']]\n",
    "df_notes['HADM_ID'] = df_notes['HADM_ID'].astype(np.int64)\n",
    "df_notes['SUBJECT_ID'] = df_notes['SUBJECT_ID'].astype(np.int64)"
   ],
   "id": "7b2f7138b7951d08",
   "outputs": [],
   "execution_count": 3
  },
  {
   "metadata": {
    "ExecuteTime": {
     "end_time": "2025-03-17T00:24:41.090718Z",
     "start_time": "2025-03-17T00:24:41.083982Z"
    }
   },
   "cell_type": "code",
   "source": "df_admissions = df_admissions.loc[:, ['SUBJECT_ID', 'HADM_ID', 'ADMITTIME', 'DISCHTIME']]",
   "id": "5ec777054b2fdedf",
   "outputs": [],
   "execution_count": 4
  },
  {
   "metadata": {
    "ExecuteTime": {
     "end_time": "2025-03-17T00:24:41.139833Z",
     "start_time": "2025-03-17T00:24:41.090718Z"
    }
   },
   "cell_type": "code",
   "source": [
    "include_codes = ['39891', '40201', '40211', '40291', '40401', '40403', '40411', '40413', '40491', '40493', '4280', '4281', \n",
    "                 '42820', '42821', '42822', '42823', '42830', '42831', '42832', '42833', '42840', '42841', '42842', '42843', '4289']\n",
    "\n",
    "df_diagnosis_hf = df_diagnosis.loc[df_diagnosis['ICD9_CODE'].isin(include_codes), ['SUBJECT_ID', 'HADM_ID', 'ICD9_CODE']]"
   ],
   "id": "f68cb2d13069e67f",
   "outputs": [],
   "execution_count": 5
  },
  {
   "metadata": {
    "ExecuteTime": {
     "end_time": "2025-03-17T00:24:42.305212Z",
     "start_time": "2025-03-17T00:24:41.139833Z"
    }
   },
   "cell_type": "code",
   "source": [
    "df_data = df_diagnosis_hf.merge(df_notes, how='inner', on=['HADM_ID', 'SUBJECT_ID'])\n",
    "df_data = df_data.loc[df_data['CATEGORY'] == 'Discharge summary', :]\n",
    "df_data['TEXT_LEN'] = df_data['TEXT'].apply(len)\n",
    "df_data = df_data.loc[df_data.groupby('HADM_ID')['TEXT_LEN'].idxmax(), :]\n",
    "df_data = df_data.merge(df_admissions, how='inner', on=['HADM_ID', 'SUBJECT_ID'])\n",
    "df_data = df_data.sort_values(by=['SUBJECT_ID', 'ADMITTIME']).reset_index(drop=True)\n",
    "df_data['ADMITTIME'] = pd.to_datetime(df_data['ADMITTIME'])\n",
    "df_data['DISCHTIME'] = pd.to_datetime(df_data['DISCHTIME'])\n",
    "\n",
    "df_data['GEN_RE'] = 0\n",
    "df_data['30_RE_BYADMIT'] = 0\n",
    "df_data['30_RE_BYDISCH'] = 0\n",
    "for i in range(1, df_data.shape[0]):\n",
    "    if df_data.loc[i - 1, 'SUBJECT_ID'] == df_data.loc[i, 'SUBJECT_ID']:\n",
    "        df_data.loc[i - 1, 'GEN_RE'] = 1\n",
    "        days_re_admit = (df_data.loc[i, 'ADMITTIME'] - df_data.loc[i - 1, 'ADMITTIME']).days\n",
    "        days_re_disch = (df_data.loc[i, 'ADMITTIME'] - df_data.loc[i - 1, 'DISCHTIME']).days\n",
    "        if days_re_admit <= 30:\n",
    "            df_data.loc[i - 1, '30_RE_BYADMIT'] = 1\n",
    "        if days_re_disch <= 30:\n",
    "            df_data.loc[i - 1, '30_RE_BYDISCH'] = 1\n",
    "\n",
    "df_data = df_data.loc[:, ['SUBJECT_ID', 'HADM_ID', 'TEXT', 'ADMITTIME', 'DISCHTIME', 'GEN_RE', '30_RE_BYADMIT', '30_RE_BYDISCH']]"
   ],
   "id": "64d2a4e0c49fd856",
   "outputs": [],
   "execution_count": 6
  },
  {
   "metadata": {
    "ExecuteTime": {
     "end_time": "2025-03-17T00:25:58.860004Z",
     "start_time": "2025-03-17T00:25:58.851522Z"
    }
   },
   "cell_type": "code",
   "source": [
    "print('Total number of datapoints: {}'.format(df_data.shape[0]))\n",
    "print('Total number of general readmission samples: {}'.format(df_data['GEN_RE'].sum()))\n",
    "print('Total number of 30-day readmission samples: {}'.format(df_data['30_RE_BYDISCH'].sum()))"
   ],
   "id": "91a0f0912a41a3db",
   "outputs": [
    {
     "name": "stdout",
     "output_type": "stream",
     "text": [
      "Total number of datapoints: 13755\n",
      "Total number of general readmission samples: 3503\n",
      "Total number of 30-day readmission samples: 942\n"
     ]
    }
   ],
   "execution_count": 8
  },
  {
   "metadata": {},
   "cell_type": "code",
   "outputs": [],
   "execution_count": null,
   "source": "",
   "id": "1008aa0b03b79cd8"
  }
 ],
 "metadata": {
  "kernelspec": {
   "display_name": "Python 3",
   "language": "python",
   "name": "python3"
  },
  "language_info": {
   "codemirror_mode": {
    "name": "ipython",
    "version": 2
   },
   "file_extension": ".py",
   "mimetype": "text/x-python",
   "name": "python",
   "nbconvert_exporter": "python",
   "pygments_lexer": "ipython2",
   "version": "2.7.6"
  }
 },
 "nbformat": 4,
 "nbformat_minor": 5
}
